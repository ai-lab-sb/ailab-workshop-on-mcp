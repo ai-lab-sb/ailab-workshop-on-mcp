{
  "cells": [
    {
      "cell_type": "markdown",
      "metadata": {},
      "source": [
        "# Módulo 8: Usando MCP Servers Existentes\n",
        "## Notebook 3: Agente con SQLite MCP\n",
        "\n",
        "### 🎯 Objetivos\n",
        "- Crear un agente LangGraph completo\n",
        "- Integrar herramientas SQLite MCP\n",
        "- Hacer consultas en lenguaje natural\n",
        "- Experimentar con diferentes preguntas\n",
        "\n",
        "### 📋 Pre-requisitos\n",
        "- Haber completado Notebooks 1 y 2\n",
        "- Servidor SQLite MCP corriendo en otra terminal\n",
        "- Base de datos ejemplo.db creada\n"
      ]
    },
    {
      "cell_type": "markdown",
      "metadata": {},
      "source": [
        "## Paso 1: Importar Dependencias y Configurar\n"
      ]
    },
    {
      "cell_type": "code",
      "execution_count": null,
      "metadata": {},
      "outputs": [],
      "source": [
        "import asyncio\n",
        "import os\n",
        "from pathlib import Path\n",
        "from dotenv import load_dotenv\n",
        "\n",
        "# Cargar API key\n",
        "root_dir = Path().absolute().parent\n",
        "env_path = root_dir / '.env'\n",
        "load_dotenv(env_path)\n",
        "\n",
        "# Verificar API key\n",
        "api_key = os.getenv(\"GOOGLE_API_KEY\")\n",
        "if not api_key:\n",
        "    raise ValueError(\"GOOGLE_API_KEY no encontrada en .env\")\n",
        "\n",
        "print(f\"✅ API Key configurada (longitud: {len(api_key)} caracteres)\")\n"
      ]
    },
    {
      "cell_type": "markdown",
      "metadata": {},
      "source": [
        "## Paso 2: Crear el Agente\n"
      ]
    },
    {
      "cell_type": "code",
      "execution_count": null,
      "metadata": {},
      "outputs": [],
      "source": [
        "from langchain_mcp_adapters.client import MultiServerMCPClient\n",
        "from langchain_google_genai import ChatGoogleGenerativeAI\n",
        "from langgraph.graph import StateGraph, START, MessagesState\n",
        "from langgraph.prebuilt import tools_condition, ToolNode\n",
        "from langchain_core.messages import SystemMessage, HumanMessage\n",
        "\n",
        "async def crear_agente():\n",
        "    \"\"\"Crea un agente que usa SQLite MCP\"\"\"\n",
        "    \n",
        "    # 1. Conectar con SQLite MCP\n",
        "    print(\"🔌 Conectando con SQLite MCP...\")\n",
        "    client = MultiServerMCPClient({\n",
        "        \"sqlite\": {\n",
        "            \"transport\": \"streamable_http\",\n",
        "            \"url\": \"http://localhost:3000/mcp\"\n",
        "        }\n",
        "    })\n",
        "    \n",
        "    tools = await client.get_tools()\n",
        "    print(f\"✅ {len(tools)} herramientas disponibles\")\n",
        "    \n",
        "    # 2. Configurar LLM\n",
        "    llm = ChatGoogleGenerativeAI(model=\"gemini-2.0-flash\", temperature=0)\n",
        "    llm_with_tools = llm.bind_tools(tools)\n",
        "    \n",
        "    # 3. System message\n",
        "    system_message = SystemMessage(\n",
        "        content=\"\"\"Eres un asistente experto en análisis de datos.\n",
        "        \n",
        "Tienes acceso a una base de datos con tablas de clientes, productos y ventas.\n",
        "Usa las herramientas disponibles para responder preguntas del usuario.\n",
        "Proporciona respuestas claras y bien estructuradas.\"\"\"\n",
        "    )\n",
        "    \n",
        "    # 4. Definir nodo asistente\n",
        "    def assistant_node(state: MessagesState):\n",
        "        messages = [system_message] + state[\"messages\"]\n",
        "        response = llm_with_tools.invoke(messages)\n",
        "        return {\"messages\": [response]}\n",
        "    \n",
        "    # 5. Construir grafo\n",
        "    builder = StateGraph(MessagesState)\n",
        "    builder.add_node(\"assistant\", assistant_node)\n",
        "    builder.add_node(\"tools\", ToolNode(tools))\n",
        "    \n",
        "    builder.add_edge(START, \"assistant\")\n",
        "    builder.add_conditional_edges(\"assistant\", tools_condition)\n",
        "    builder.add_edge(\"tools\", \"assistant\")\n",
        "    \n",
        "    print(\"🤖 Agente creado exitosamente!\")\n",
        "    return builder.compile()\n",
        "\n",
        "# Crear agente\n",
        "graph = await crear_agente()\n"
      ]
    },
    {
      "cell_type": "markdown",
      "metadata": {},
      "source": [
        "## Paso 3: Probar el Agente\n",
        "\n",
        "Ahora puedes hacer preguntas en lenguaje natural y el agente usará las herramientas del servidor SQLite MCP para responder.\n"
      ]
    },
    {
      "cell_type": "code",
      "execution_count": null,
      "metadata": {},
      "outputs": [],
      "source": [
        "# Ejemplo 1: Contar clientes\n",
        "pregunta = \"¿Cuántos clientes hay en la base de datos?\"\n",
        "print(f\"🤔 Pregunta: {pregunta}\\\\n\")\n",
        "\n",
        "result = await graph.ainvoke({\n",
        "    \"messages\": [HumanMessage(content=pregunta)]\n",
        "})\n",
        "\n",
        "respuesta = result[\"messages\"][-1].content\n",
        "print(f\"🤖 Respuesta:\\\\n{respuesta}\")\n"
      ]
    },
    {
      "cell_type": "code",
      "execution_count": null,
      "metadata": {},
      "outputs": [],
      "source": [
        "# Ejemplo 2: Productos más caros\n",
        "pregunta = \"Muéstrame los 3 productos más caros\"\n",
        "print(f\"🤔 Pregunta: {pregunta}\\\\n\")\n",
        "\n",
        "result = await graph.ainvoke({\n",
        "    \"messages\": [HumanMessage(content=pregunta)]\n",
        "})\n",
        "\n",
        "respuesta = result[\"messages\"][-1].content\n",
        "print(f\"🤖 Respuesta:\\\\n{respuesta}\")\n"
      ]
    },
    {
      "cell_type": "markdown",
      "metadata": {},
      "source": [
        "## 🎯 Ejercicios\n",
        "\n",
        "Prueba hacer estas preguntas al agente:\n",
        "\n",
        "1. \"¿Qué clientes son de Madrid?\"\n",
        "2. \"¿Cuál fue la venta con mayor monto?\"\n",
        "3. \"¿Cuántos productos hay en la categoría de Electrónica?\"\n",
        "4. \"Muéstrame las ventas del último mes\"\n",
        "\n",
        "Crea nuevas celdas abajo y experimenta con tus propias preguntas!\n"
      ]
    },
    {
      "cell_type": "markdown",
      "metadata": {},
      "source": [
        "## ✅ ¡Felicitaciones!\n",
        "\n",
        "Has creado exitosamente un agente LangGraph que usa un servidor MCP existente.\n",
        "\n",
        "### ⏭️ Próximo Paso\n",
        "Continúa con `04_multi_servidor.ipynb` para aprender a usar múltiples servidores MCP simultáneamente.\n"
      ]
    }
  ],
  "metadata": {
    "language_info": {
      "name": "python"
    }
  },
  "nbformat": 4,
  "nbformat_minor": 2
}
