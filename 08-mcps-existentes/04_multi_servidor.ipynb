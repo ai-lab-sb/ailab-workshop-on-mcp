{
  "cells": [
    {
      "cell_type": "markdown",
      "metadata": {},
      "source": [
        "# Módulo 8: Usando MCP Servers Existentes\n",
        "## Notebook 4: Múltiples Servidores MCP\n",
        "\n",
        "### 🎯 Objetivos\n",
        "- Conectar múltiples servidores MCP simultáneamente\n",
        "- Crear un cliente unificado\n",
        "- Entender cómo combinar herramientas de diferentes servidores\n",
        "\n",
        "### 💡 Concepto\n",
        "\n",
        "Un agente puede usar herramientas de múltiples servidores MCP al mismo tiempo, combinando por ejemplo:\n",
        "- SQLite MCP (base de datos)\n",
        "- Tu servidor FastMCP personalizado\n",
        "- Filesystem MCP (archivos)\n",
        "- GitHub MCP (código)\n"
      ]
    },
    {
      "cell_type": "markdown",
      "metadata": {},
      "source": [
        "## Ejemplo: Conectar a Múltiples Servidores\n"
      ]
    },
    {
      "cell_type": "code",
      "execution_count": null,
      "metadata": {},
      "outputs": [],
      "source": [
        "from langchain_mcp_adapters.client import MultiServerMCPClient\n",
        "\n",
        "async def conectar_multi_servidor():\n",
        "    \"\"\"Conecta con múltiples servidores MCP\"\"\"\n",
        "    \n",
        "    # Configuración de múltiples servidores\n",
        "    client = MultiServerMCPClient({\n",
        "        \"sqlite\": {\n",
        "            \"transport\": \"streamable_http\",\n",
        "            \"url\": \"http://localhost:3000/mcp\"\n",
        "        },\n",
        "        \"custom\": {  # Tu servidor FastMCP personalizado\n",
        "            \"transport\": \"streamable_http\",\n",
        "            \"url\": \"http://localhost:8001/mcp\"\n",
        "        }\n",
        "    })\n",
        "    \n",
        "    # Obtiene herramientas de TODOS los servidores\n",
        "    all_tools = await client.get_tools()\n",
        "    \n",
        "    print(f\"✅ Conectado a múltiples servidores\")\n",
        "    print(f\"📦 Total de herramientas: {len(all_tools)}\\\\n\")\n",
        "    \n",
        "    for tool in all_tools:\n",
        "        print(f\"- {tool.name}\")\n",
        "    \n",
        "    return client, all_tools\n",
        "\n",
        "# Intentar conectar (funcionará si tienes ambos servidores corriendo)\n",
        "try:\n",
        "    client, tools = await conectar_multi_servidor()\n",
        "except Exception as e:\n",
        "    print(f\"⚠️ Error: {e}\")\n",
        "    print(\"\\\\nNota: Esto es normal si no tienes múltiples servidores corriendo.\")\n"
      ]
    },
    {
      "cell_type": "markdown",
      "metadata": {},
      "source": [
        "## ✅ Conclusión del Módulo\n",
        "\n",
        "¡Felicitaciones! Has completado el Módulo 8.\n",
        "\n",
        "### 🎓 Lo Que Aprendiste\n",
        "\n",
        "- ✅ Ecosistema de servidores MCP existentes\n",
        "- ✅ Instalar y usar SQLite MCP Server\n",
        "- ✅ Crear agentes que consumen servidores externos\n",
        "- ✅ Conectar múltiples servidores simultáneamente\n",
        "\n",
        "### 🚀 Próximos Pasos\n",
        "\n",
        "1. **Explora otros servidores**: Prueba filesystem, github, etc.\n",
        "2. **Combina con FastMCP**: Usa servidores existentes + tus propios servidores\n",
        "3. **Proyectos reales**: Aplica estos conceptos en aplicaciones reales\n",
        "4. **Contribuye**: Crea y comparte tus propios servidores MCP\n",
        "\n",
        "### 📚 Recursos\n",
        "\n",
        "- [MCP Servers Directory](https://github.com/modelcontextprotocol/servers)\n",
        "- [Awesome MCP](https://github.com/punkpeye/awesome-mcp)\n",
        "- [MCP Documentation](https://modelcontextprotocol.io/)\n",
        "\n",
        "---\n",
        "\n",
        "**¡Gracias por completar este módulo!** 🎉\n"
      ]
    },
    {
      "cell_type": "markdown",
      "metadata": {},
      "source": []
    }
  ],
  "metadata": {
    "language_info": {
      "name": "python"
    }
  },
  "nbformat": 4,
  "nbformat_minor": 2
}
