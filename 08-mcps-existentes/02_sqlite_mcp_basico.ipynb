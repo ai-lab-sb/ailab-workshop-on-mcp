{
  "cells": [
    {
      "cell_type": "markdown",
      "metadata": {},
      "source": [
        "# Módulo 8: Usando MCP Servers Existentes\n",
        "## Notebook 2: SQLite MCP Básico\n",
        "\n",
        "### 🎯 Objetivos\n",
        "- Instalar el servidor SQLite MCP\n",
        "- Crear base de datos de ejemplo\n",
        "- Conectar desde Python\n",
        "- Explorar herramientas disponibles\n",
        "\n",
        "### 📋 Pre-requisitos\n",
        "- Haber completado Notebook 1\n",
        "- Node.js y npm instalados\n",
        "- Python y dependencias instaladas\n"
      ]
    },
    {
      "cell_type": "markdown",
      "metadata": {},
      "source": [
        "## Paso 1: Crear Base de Datos\n",
        "\n",
        "Primero, crearemos una base de datos SQLite de ejemplo con datos de clientes, productos y ventas.\n"
      ]
    },
    {
      "cell_type": "code",
      "execution_count": null,
      "metadata": {},
      "outputs": [],
      "source": [
        "# Ejecutar el script de creación de BD\n",
        "!python crear_db_ejemplo.py\n"
      ]
    },
    {
      "cell_type": "markdown",
      "metadata": {},
      "source": [
        "## Paso 2: Iniciar Servidor SQLite MCP\n",
        "\n",
        "**IMPORTANTE**: Abre una nueva terminal y ejecuta:\n",
        "\n",
        "```bash\n",
        "npx @modelcontextprotocol/server-sqlite ejemplo.db\n",
        "```\n",
        "\n",
        "El servidor iniciará en `http://localhost:3000/mcp`\n",
        "\n",
        "⚠️ **Deja esa terminal abierta mientras trabajas con los notebooks**\n"
      ]
    },
    {
      "cell_type": "markdown",
      "metadata": {},
      "source": [
        "## Paso 3: Conectar desde Python\n"
      ]
    },
    {
      "cell_type": "code",
      "execution_count": null,
      "metadata": {},
      "outputs": [],
      "source": [
        "import asyncio\n",
        "from langchain_mcp_adapters.client import MultiServerMCPClient\n",
        "\n",
        "async def conectar_sqlite_mcp():\n",
        "    \"\"\"Conecta con el servidor SQLite MCP\"\"\"\n",
        "    print(\"🔌 Conectando con servidor SQLite MCP...\")\n",
        "    \n",
        "    # Configurar cliente\n",
        "    client = MultiServerMCPClient({\n",
        "        \"sqlite\": {\n",
        "            \"transport\": \"streamable_http\",\n",
        "            \"url\": \"http://localhost:3000/mcp\"\n",
        "        }\n",
        "    })\n",
        "    \n",
        "    # Obtener herramientas\n",
        "    tools = await client.get_tools()\n",
        "    \n",
        "    print(f\"✅ Conectado! {len(tools)} herramientas disponibles\\\\n\")\n",
        "    \n",
        "    # Mostrar herramientas\n",
        "    for i, tool in enumerate(tools, 1):\n",
        "        print(f\"{i}. {tool.name}\")\n",
        "        print(f\"   {tool.description}\\\\n\")\n",
        "    \n",
        "    return client, tools\n",
        "\n",
        "# Ejecutar\n",
        "client, tools = await conectar_sqlite_mcp()\n"
      ]
    },
    {
      "cell_type": "markdown",
      "metadata": {},
      "source": [
        "## ✅ ¡Excelente!\n",
        "\n",
        "Has conectado exitosamente con el servidor SQLite MCP.\n",
        "\n",
        "### ⏭️ Próximo Paso\n",
        "Continúa con `03_agente_con_sqlite_mcp.ipynb` para crear un agente completo que use estas herramientas.\n"
      ]
    },
    {
      "cell_type": "markdown",
      "metadata": {},
      "source": []
    }
  ],
  "metadata": {
    "language_info": {
      "name": "python"
    }
  },
  "nbformat": 4,
  "nbformat_minor": 2
}
