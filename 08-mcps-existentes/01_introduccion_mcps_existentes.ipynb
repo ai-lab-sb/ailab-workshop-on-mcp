{
  "cells": [
    {
      "cell_type": "markdown",
      "metadata": {},
      "source": [
        "# Módulo 8: Usando MCP Servers Existentes\n",
        "## Notebook 1: Introducción al Ecosistema MCP\n",
        "\n",
        "---\n",
        "\n",
        "### 🎯 Objetivos de este Notebook\n",
        "\n",
        "- Entender qué son los servidores MCP existentes\n",
        "- Conocer el ecosistema de servidores disponibles\n",
        "- Aprender cuándo usar servidores existentes vs crear propios\n",
        "- Configurar el entorno de trabajo\n",
        "\n",
        "---\n"
      ]
    },
    {
      "cell_type": "markdown",
      "metadata": {},
      "source": [
        "## 📚 ¿Qué son los Servidores MCP Existentes?\n",
        "\n",
        "En los módulos anteriores del workshop, aprendiste a **crear** servidores MCP usando **FastMCP**. Sin embargo, la comunidad MCP ha desarrollado cientos de servidores listos para usar.\n",
        "\n",
        "### Ventajas de Usar Servidores Existentes\n",
        "\n",
        "| Aspecto | Crear Propio | Usar Existente |\n",
        "|---------|-------------|----------------|\n",
        "| ⚡ Velocidad | Días de desarrollo | Minutos de instalación |\n",
        "| ✅ Calidad | Depende de ti | Código testeado |\n",
        "| 🔧 Mantenimiento | Tú lo mantienes | Comunidad lo mantiene |\n",
        "| 🎓 Aprendizaje | Alto | Medio |\n",
        "| 🎨 Personalización | Total | Limitada |\n"
      ]
    },
    {
      "cell_type": "markdown",
      "metadata": {},
      "source": [
        "## 🌍 Ecosistema de Servidores MCP\n",
        "\n",
        "### Servidores Oficiales (Anthropic)\n",
        "\n",
        "Anthropic mantiene servidores oficiales de alta calidad:\n",
        "\n",
        "1. **@modelcontextprotocol/server-sqlite** - Base de datos SQLite\n",
        "2. **@modelcontextprotocol/server-filesystem** - Sistema de archivos\n",
        "3. **@modelcontextprotocol/server-github** - API de GitHub\n",
        "4. **@modelcontextprotocol/server-postgres** - PostgreSQL\n",
        "5. **@modelcontextprotocol/server-google-maps** - Google Maps\n",
        "\n",
        "### Servidores Comunitarios\n",
        "\n",
        "La comunidad ha creado servidores para:\n",
        "- APIs populares (Twitter, Discord, Slack)\n",
        "- Bases de datos (MongoDB, Redis)\n",
        "- Herramientas dev (Docker, Kubernetes)\n",
        "- Y muchos más...\n",
        "\n",
        "📖 **Explora**: [MCP Servers Directory](https://github.com/modelcontextprotocol/servers)\n"
      ]
    },
    {
      "cell_type": "markdown",
      "metadata": {},
      "source": [
        "## 🤔 ¿Cuándo Usar Cada Opción?\n",
        "\n",
        "### Usa Servidor Existente cuando:\n",
        "\n",
        "- ✅ Existe un servidor que hace exactamente lo que necesitas\n",
        "- ✅ Quieres ahorrar tiempo de desarrollo\n",
        "- ✅ Prefieres código mantenido por la comunidad\n",
        "- ✅ La integración estándar es suficiente\n",
        "\n",
        "### Crea tu Propio Servidor (FastMCP) cuando:\n",
        "\n",
        "- ✅ Necesitas lógica de negocio personalizada\n",
        "- ✅ Integras una API no soportada\n",
        "- ✅ Requieres validaciones específicas\n",
        "- ✅ Quieres control total del comportamiento\n",
        "\n",
        "### Lo Mejor: ¡Combinar Ambos!\n",
        "\n",
        "Puedes usar servidores existentes **Y** tus propios servidores simultáneamente en el mismo agente.\n"
      ]
    },
    {
      "cell_type": "markdown",
      "metadata": {},
      "source": [
        "## 🔧 Verificar Pre-requisitos\n",
        "\n",
        "Antes de continuar, verificamos que tienes todo instalado correctamente.\n"
      ]
    },
    {
      "cell_type": "code",
      "execution_count": null,
      "metadata": {},
      "outputs": [],
      "source": [
        "# Verificar versión de Python\n",
        "import sys\n",
        "print(f\"Python versión: {sys.version}\")\n",
        "print(f\"Python ejecutable: {sys.executable}\")\n",
        "\n",
        "if sys.version_info < (3, 10):\n",
        "    print(\"⚠️ Advertencia: Se recomienda Python 3.10 o superior\")\n",
        "else:\n",
        "    print(\"✅ Versión de Python correcta\")\n"
      ]
    },
    {
      "cell_type": "code",
      "execution_count": null,
      "metadata": {},
      "outputs": [],
      "source": [
        "# Verificar dependencias principales\n",
        "dependencias_requeridas = [\n",
        "    \"langchain_mcp_adapters\",\n",
        "    \"langchain_google_genai\",\n",
        "    \"langgraph\",\n",
        "    \"fastmcp\",\n",
        "    \"dotenv\"\n",
        "]\n",
        "\n",
        "print(\"Verificando dependencias...\\\\n\")\n",
        "\n",
        "for dep in dependencias_requeridas:\n",
        "    try:\n",
        "        __import__(dep)\n",
        "        print(f\"✅ {dep}\")\n",
        "    except ImportError:\n",
        "        print(f\"❌ {dep} - No instalado\")\n",
        "        print(f\"   Instalar con: pip install {dep}\")\n"
      ]
    },
    {
      "cell_type": "code",
      "execution_count": null,
      "metadata": {},
      "outputs": [],
      "source": [
        "# Verificar que Node.js está instalado (para servidores npm)\n",
        "import subprocess\n",
        "\n",
        "try:\n",
        "    result = subprocess.run(['node', '--version'], capture_output=True, text=True, shell=True)\n",
        "    print(f\"✅ Node.js versión: {result.stdout.strip()}\")\n",
        "    \n",
        "    result = subprocess.run(['npm', '--version'], capture_output=True, text=True, shell=True)\n",
        "    print(f\"✅ npm versión: {result.stdout.strip()}\")\n",
        "    \n",
        "except FileNotFoundError:\n",
        "    print(\"❌ Node.js no está instalado\")\n",
        "    print(\"   Descarga desde: https://nodejs.org/\")\n",
        "    print(\"   Los servidores MCP oficiales requieren Node.js\")\n"
      ]
    },
    {
      "cell_type": "code",
      "execution_count": null,
      "metadata": {},
      "outputs": [],
      "source": [
        "# Verificar API Key de Google\n",
        "import os\n",
        "from dotenv import load_dotenv\n",
        "\n",
        "# Cargar variables de entorno desde el directorio raíz\n",
        "import sys\n",
        "from pathlib import Path\n",
        "root_dir = Path().absolute().parent\n",
        "env_path = root_dir / '.env'\n",
        "load_dotenv(env_path)\n",
        "\n",
        "api_key = os.getenv(\"GOOGLE_API_KEY\")\n",
        "\n",
        "if api_key:\n",
        "    print(f\"✅ GOOGLE_API_KEY encontrada (longitud: {len(api_key)} caracteres)\")\n",
        "    print(f\"   Primeros caracteres: {api_key[:10]}...\")\n",
        "else:\n",
        "    print(\"❌ GOOGLE_API_KEY no encontrada\")\n",
        "    print(\"   Crea un archivo .env en la raíz del proyecto con:\")\n",
        "    print(\"   GOOGLE_API_KEY=tu_api_key_aqui\")\n",
        "    print(\"   Obtén tu key en: https://makersuite.google.com/app/apikey\")\n"
      ]
    },
    {
      "cell_type": "markdown",
      "metadata": {},
      "source": [
        "## ✅ Resumen\n",
        "\n",
        "Si todas las verificaciones anteriores pasaron correctamente, estás listo para continuar con el módulo. Si alguna falló, asegúrate de instalar los requisitos faltantes antes de proceder.\n",
        "\n",
        "---\n",
        "\n",
        "## ⏭️ Próximo Paso\n",
        "\n",
        "**Continúa con**: `02_sqlite_mcp_basico.ipynb`\n",
        "\n",
        "En el siguiente notebook aprenderás a:\n",
        "- Instalar el servidor SQLite MCP\n",
        "- Crear una base de datos de ejemplo\n",
        "- Conectarte desde Python\n",
        "- Explorar las herramientas disponibles\n",
        "\n",
        "---\n",
        "\n",
        "**¡Excelente trabajo completando el Notebook 1!** 🎉\n"
      ]
    },
    {
      "cell_type": "markdown",
      "metadata": {},
      "source": []
    }
  ],
  "metadata": {
    "language_info": {
      "name": "python"
    }
  },
  "nbformat": 4,
  "nbformat_minor": 2
}
